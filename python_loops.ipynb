{
 "cells": [
  {
   "cell_type": "markdown",
   "metadata": {},
   "source": [
    "# Print numbers from 1 to 5 using a while loop."
   ]
  },
  {
   "cell_type": "code",
   "execution_count": null,
   "metadata": {},
   "outputs": [],
   "source": [
    "# Initialize the starting number\n",
    "i = 1\n",
    "\n",
    "# Loop until i is greater than 5\n",
    "while i <= 5:\n",
    "    print(i)  # Print the current number\n",
    "    i += 1  # Increment the number\n",
    "\n"
   ]
  },
  {
   "cell_type": "markdown",
   "metadata": {},
   "source": [
    "# Calculate the sum of numbers from 1 to 10 using a while loop."
   ]
  },
  {
   "cell_type": "code",
   "execution_count": null,
   "metadata": {},
   "outputs": [],
   "source": [
    "# Initialize variables\n",
    "i = 1\n",
    "sum_numbers = 0\n",
    "\n",
    "# Loop until i is greater than 10\n",
    "while i <= 10:\n",
    "    sum_numbers += i  # Add current number to sum\n",
    "    i += 1  # Increment the number\n",
    "\n",
    "print(\"Sum of numbers from 1 to 10:\", sum_numbers)"
   ]
  },
  {
   "cell_type": "markdown",
   "metadata": {},
   "source": [
    "# Calculate the factorial of a number using a for loop."
   ]
  },
  {
   "cell_type": "code",
   "execution_count": null,
   "metadata": {},
   "outputs": [],
   "source": [
    "# Define the number to find the factorial of\n",
    "num = 5\n",
    "factorial = 1\n",
    "\n",
    "# Loop from 1 to the number (inclusive)\n",
    "for i in range(1, num + 1):\n",
    "    factorial *= i  # Multiply current number to factorial\n",
    "\n",
    "print(f\"Factorial of {num} is:\", factorial)"
   ]
  },
  {
   "cell_type": "markdown",
   "metadata": {},
   "source": [
    "# Count the number of vowels in a string using a for loop."
   ]
  },
  {
   "cell_type": "code",
   "execution_count": null,
   "metadata": {},
   "outputs": [],
   "source": [
    "# Input string\n",
    "string = \"Hello, Python!\"\n",
    "\n",
    "# Define vowels and initialize counter\n",
    "vowels = \"aeiouAEIOU\"\n",
    "vowel_count = 0\n",
    "\n",
    "# Loop through each character in the string\n",
    "for char in string:\n",
    "    if char in vowels:  # Check if character is a vowel\n",
    "        vowel_count += 1\n",
    "\n",
    "print(f\"Number of vowels in '{string}':\", vowel_count)"
   ]
  },
  {
   "cell_type": "markdown",
   "metadata": {},
   "source": [
    "# Print a pattern using nested loops."
   ]
  },
  {
   "cell_type": "code",
   "execution_count": null,
   "metadata": {},
   "outputs": [],
   "source": [
    "# Define the number of rows\n",
    "rows = 5\n",
    "\n",
    "# Outer loop for rows\n",
    "for i in range(1, rows + 1):\n",
    "    # Inner loop for columns\n",
    "    for j in range(1, i + 1):\n",
    "        print(\"*\", end=\"\")  # Print asterisk without newline\n",
    "    print()  # Print newline after each row"
   ]
  },
  {
   "cell_type": "markdown",
   "metadata": {},
   "source": [
    "# Generate a multiplication table using nested loops."
   ]
  },
  {
   "cell_type": "code",
   "execution_count": null,
   "metadata": {},
   "outputs": [],
   "source": [
    "# Define the range for the table\n",
    "n = 5\n",
    "\n",
    "# Outer loop for rows\n",
    "for i in range(1, n + 1):\n",
    "    # Inner loop for columns\n",
    "    for j in range(1, n + 1):\n",
    "        print(f\"{i * j:2}\", end=\" \")  # Print product in aligned format\n",
    "    print()  # Print newline after each row\n"
   ]
  }
 ],
 "metadata": {
  "language_info": {
   "name": "python"
  }
 },
 "nbformat": 4,
 "nbformat_minor": 2
}
